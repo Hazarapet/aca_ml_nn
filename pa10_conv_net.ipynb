{
 "cells": [
  {
   "cell_type": "markdown",
   "metadata": {},
   "source": [
    "# PA10, convolutional neural network\n",
    "\n",
    "In this task you will need to train a convolutional neural networks, the architecture is the following:\n",
    "\n",
    "1. Input, (n_batch, height, width, n_channels) - one channel grayscale image or three channel (RGB) image\n",
    "2. Convolutional layer, 5x5 filters, 6 output channels, no padding, ReLU activation\n",
    "3. Pooling layer, 2x2 max pooling, no padding\n",
    "4. Convolutional layer, 5x5 filters, 16 output channels, no padding, ReLU activation\n",
    "5. Pooling layer, 2x2 max pooling, no padding\n",
    "6. Dense (fully connected layer), 120 hidden units, ReLU activation\n",
    "7. Dense (fully connected layer), 84 hidden units, ReLU activation\n",
    "8. Dense (fully connected layer), 10 hidden units (for 10 classes), no activation\n",
    "9. Softmax \n",
    "\n",
    "## Part 1, Implementation\n",
    "\n",
    "Implement the model using ```tf.layers``` and train it for MNIST dataset. You will need to use ```conv2d, max_pooling2d, dense``` layers for convolutional layer, max pooling and fully connected (dense) layer respectively. You may also use ```tf.contrib.layers.flatten``` in order to convert a feature map of size (n_batch,height,width,n_channels) to a batch of vectors of size (n_batch,height\\*width\\*n_channels).\n",
    "\n",
    "Plot the loss function, and train/test set accuracy.\n",
    "\n",
    "** Bonus **\n",
    "\n",
    "After you trained the network on MNIST dataset, if you have time, you can also train to on CIFAR 10 dataset.\n",
    "In order to read the dataset, you can use the function ```tf.keras.datasets.cifar10.load_data()``` (see the code below, the images now have different size). The description of the dataset is given on the following web-page (https://www.cs.toronto.edu/~kriz/cifar.html). Please note that it will take much more time to train the network, so it is very important to use an appropriate optimization method and choose the right batch size. You can stop earlier when the accuracy is reasonable if it takes too long to train the network.\n",
    "\n",
    "## Part 2, computing the dimensions for the feature maps at each layer\n",
    "\n",
    "Write a small comment on dimensions of the output for each conv and max pooling layer. \n",
    "For example:\n",
    "\n",
    "1. Conv layer 1 takes an image of size 64x64, it has a filter of size 3x3 with padding 1, so the dimension of the output is 64+2\\*1-(3-1) = 64. We have 32 feature maps in the output, so the size of the output is (n_batch,64,64,32).\n",
    "\n",
    "2. Pooling layer does 2x2 max pooling for an image of size 64x64 with 32 feature maps, no padding is added. So, the size of the output is (n_batch,64/2,64/2,32)=(n_batch,64,64,32)."
   ]
  },
  {
   "cell_type": "code",
   "execution_count": 6,
   "metadata": {},
   "outputs": [
    {
     "name": "stdout",
     "output_type": "stream",
     "text": [
      "Extracting Data/MNIST_data/train-images-idx3-ubyte.gz\n",
      "Extracting Data/MNIST_data/train-labels-idx1-ubyte.gz\n",
      "Extracting Data/MNIST_data/t10k-images-idx3-ubyte.gz\n",
      "Extracting Data/MNIST_data/t10k-labels-idx1-ubyte.gz\n"
     ]
    }
   ],
   "source": [
    "# import MNIST data\n",
    "import numpy as np\n",
    "import tensorflow as tf\n",
    "import matplotlib.pyplot as plt\n",
    "\n",
    "from tensorflow.contrib.learn.python.learn.datasets.mnist import read_data_sets\n",
    "mnist = read_data_sets(\"Data/MNIST_data/\", one_hot=False)"
   ]
  },
  {
   "cell_type": "code",
   "execution_count": 7,
   "metadata": {},
   "outputs": [],
   "source": [
    "def model(x):\n",
    "    layer1 = tf.layers.conv2d(inputs=x, filters=6, kernel_size=(5, 5))  # we could also use activation parameter\n",
    "    layer1 = tf.nn.relu(layer1)\n",
    "    layer1 = tf.layers.max_pooling2d(inputs=layer1, pool_size=(2, 2), strides=(1, 1))\n",
    "    \n",
    "    layer2 = tf.layers.conv2d(inputs=layer1, filters=16, kernel_size=(5, 5))\n",
    "    layer2 = tf.nn.relu(layer2)\n",
    "    layer2 = tf.layers.max_pooling2d(inputs=layer2, pool_size=(2, 2), strides=(1, 1))\n",
    "    \n",
    "    flatten = tf.contrib.layers.flatten(layer2)\n",
    "    \n",
    "    dense1 = tf.layers.dense(flatten, 120, activation=tf.nn.relu)\n",
    "    dense2 = tf.layers.dense(dense1, 84, activation=tf.nn.relu)\n",
    "    dense3 = tf.layers.dense(dense2, 10)\n",
    "    \n",
    "    return dense3"
   ]
  },
  {
   "cell_type": "code",
   "execution_count": 8,
   "metadata": {
    "collapsed": false
   },
   "outputs": [],
   "source": [
    "n_classes = 10;\n",
    "\n",
    "# this is needed to avoid clashes of names if there was a previous version of the same model\n",
    "tf.reset_default_graph()\n",
    "\n",
    "# two placeholders for the input and the target\n",
    "X = tf.placeholder(tf.float32, shape=[None, 28, 28, 1])\n",
    "y = tf.placeholder(tf.int64, shape=[None])\n",
    "\n",
    "net = model(X)\n",
    "p = tf.nn.softmax(net)\n",
    "\n",
    "y_out_hot = tf.one_hot(y, n_classes)\n",
    "# y_out_hot = tf.squeeze(y_out_hot, axis=1)\n",
    "\n",
    "loss = tf.losses.softmax_cross_entropy(onehot_labels=y_out_hot, logits=net)\n",
    "\n",
    "accuracy = tf.reduce_mean(tf.cast(tf.equal(tf.argmax(p, 1), y), tf.float32))\n",
    "\n",
    "optimizer = tf.train.AdamOptimizer(learning_rate=.0001)\n",
    "train = optimizer.minimize(loss)"
   ]
  },
  {
   "cell_type": "code",
   "execution_count": 9,
   "metadata": {
    "collapsed": true
   },
   "outputs": [],
   "source": [
    "# This code loads CIFAR 10 dataset (32x32 color images)\n",
    "\n",
    "#import tensorflow as tf\n",
    "#(x_train, y_train), (x_test, y_test) = tf.keras.datasets.cifar10.load_data()\n",
    "\n",
    "# mean and standard deviation for R,G,B channels respectively\n",
    "# mean = {125.3, 123.0, 113.9}\n",
    "# std = {63.0, 62.1, 66.7}"
   ]
  },
  {
   "cell_type": "code",
   "execution_count": 10,
   "metadata": {
    "collapsed": false
   },
   "outputs": [
    {
     "name": "stdout",
     "output_type": "stream",
     "text": [
      "Epoch: 0, train_loss: 1.5537, train_acc: 0.5987, test_acc: 0.8528\n",
      "Epoch: 1, train_loss: 0.4587, train_acc: 0.8845, test_acc: 0.9181\n",
      "Epoch: 2, train_loss: 0.2723, train_acc: 0.9247, test_acc: 0.9403\n",
      "Epoch: 3, train_loss: 0.2078, train_acc: 0.9415, test_acc: 0.9522\n",
      "Epoch: 4, train_loss: 0.1686, train_acc: 0.9527, test_acc: 0.9587\n",
      "Epoch: 5, train_loss: 0.1398, train_acc: 0.9604, test_acc: 0.9657\n",
      "Epoch: 6, train_loss: 0.1201, train_acc: 0.9659, test_acc: 0.9705\n",
      "Epoch: 7, train_loss: 0.1052, train_acc: 0.9694, test_acc: 0.9736\n",
      "Epoch: 8, train_loss: 0.0935, train_acc: 0.9733, test_acc: 0.9764\n",
      "Epoch: 9, train_loss: 0.0844, train_acc: 0.9757, test_acc: 0.9802\n"
     ]
    },
    {
     "data": {
      "text/plain": [
       "<matplotlib.legend.Legend at 0x109acd0f0>"
      ]
     },
     "execution_count": 10,
     "metadata": {},
     "output_type": "execute_result"
    },
    {
     "data": {
      "image/png": "[encoded data removed]",
      "text/plain": [
       "<Figure size 576x432 with 1 Axes>"
      ]
     },
     "metadata": {},
     "output_type": "display_data"
    }
   ],
   "source": [
    "n_batch = 1000\n",
    "n_epoch = 10\n",
    "n_train = mnist.train.images.shape[0]\n",
    "\n",
    "test_img = np.reshape(mnist.test.images, (10000, 28, 28, 1))\n",
    "\n",
    "with tf.Session() as sess:\n",
    "    sess.run(tf.global_variables_initializer())\n",
    "    train_loss_epoch = []\n",
    "    train_acc_epoch = []\n",
    "    test_acc_epoch = []\n",
    "    \n",
    "    for epoch in range(0, n_epoch):\n",
    "        train_loss = 0\n",
    "        train_acc = 0\n",
    "\n",
    "        for i_batch in range(0, n_train // n_batch):\n",
    "            batch_img, batch_target = mnist.train.next_batch(n_batch)\n",
    "            batch_img_reshaped = np.reshape(batch_img, (n_batch, 28, 28, 1))\n",
    "            \n",
    "            [loss_value, acc_value] = sess.run([loss, accuracy], feed_dict={X: batch_img_reshaped , y: batch_target})\n",
    "            train.run({X: batch_img_reshaped , y: batch_target})\n",
    "\n",
    "            train_loss += loss_value\n",
    "            train_acc += acc_value\n",
    "\n",
    "        train_loss = train_loss / (n_train // n_batch)\n",
    "        train_acc = train_acc / (n_train // n_batch)\n",
    "        \n",
    "        [test_acc] = sess.run([accuracy], feed_dict={X: test_img, y: mnist.test.labels})\n",
    "        \n",
    "        train_loss_epoch.append(train_loss)\n",
    "        train_acc_epoch.append(train_acc)\n",
    "        test_acc_epoch.append(test_acc)\n",
    "        print('Epoch: {}, train_loss: {:.4f}, train_acc: {:.4f}, test_acc: {:.4f}'.format(epoch, train_loss, train_acc, test_acc))\n",
    "        \n",
    "        \n",
    "plt.figure(figsize=(8, 6))\n",
    "plt.plot(train_loss_epoch, label='Train Loss')\n",
    "plt.plot(train_acc_epoch, label='Train Acc')\n",
    "plt.plot(test_acc_epoch, label='Test Acc')\n",
    "plt.legend()"
   ]
  },
  {
   "cell_type": "markdown",
   "metadata": {},
   "source": [
    "## Part 2, Compute the dimensions of the output for each layer."
   ]
  },
  {
   "cell_type": "code",
   "execution_count": 11,
   "metadata": {
    "collapsed": false
   },
   "outputs": [],
   "source": [
    "# input (n_batch, 28, 28, 1)\n",
    "# layer1 (n_batch, 23, 23, 6)\n",
    "# layer2 (n_batch, 18, 18, 16)\n",
    "# flatten (n_batch, 5184)\n",
    "# danse1 (120,)\n",
    "# dense2 (84,)\n",
    "# out (10,)"
   ]
  },
  {
   "cell_type": "code",
   "execution_count": null,
   "metadata": {},
   "outputs": [],
   "source": []
  }
 ],
 "metadata": {
  "kernelspec": {
   "display_name": "Python 3",
   "language": "python",
   "name": "python3"
  },
  "language_info": {
   "codemirror_mode": {
    "name": "ipython",
    "version": 3
   },
   "file_extension": ".py",
   "mimetype": "text/x-python",
   "name": "python",
   "nbconvert_exporter": "python",
   "pygments_lexer": "ipython3",
   "version": "3.6.5"
  }
 },
 "nbformat": 4,
 "nbformat_minor": 2
}
