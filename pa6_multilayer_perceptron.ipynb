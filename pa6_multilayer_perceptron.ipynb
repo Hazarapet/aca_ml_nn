{
 "cells": [
  {
   "cell_type": "markdown",
   "metadata": {},
   "source": [
    "## Assignment 6\n",
    "## Multilayer perceptron. Backpropagation.\n",
    "\n",
    "The goal of this task is to train a multilayer perceptron for classification using backpropagation.\n",
    "\n",
    "The model is defined in the following way.\n",
    "\n",
    "$z_1 = W_1x + b_1,$\n",
    "\n",
    "$h = \\tanh(z_1),$\n",
    "\n",
    "$z_2 = W_2h + b_2,$\n",
    "\n",
    "$y = \\mathrm{softmax}(z_2),$\n",
    "\n",
    "$L = -\\sum_{i} t\\log y.$\n",
    "\n",
    "Where $x$ is the input vector. The cross-entropy loss function is used, where $t$ are targets represented as one-hot vectors. And you also need to add $L_2$ regularization on $W_1$ and $W_2$.\n",
    "\n",
    "The task is to classify hand-written digits from MNIST dataset, there are 10 classes in total, each corresponds to a different digit. The task is to train the classifier using stochastic gradient descent (SGD). So, you need to compute gradients for each parameter of the model, i.e. $W_1$, $b_1$, $W_2$, $b_2$.\n",
    "\n",
    "The code below loads the dataset, there are 1797 samples in total. You need to split the dataset into two parts, 80 percent of the samples for the training set and the remaining 20 percent for the test set. Make sure that both contain all kinds of digits. Each of the samples in a greyscale image 8x8 which is represented as a 64-dimensional vector when given as an input to the neural network classifier. Use dimension 50 for the hidden layer $h$ in the beginning. You are welcome to play with this parameter after you finish the implementation to see how it affects the results.\n",
    "\n",
    "Plot the value of the loss function after each epoch and also plot the classification accuracy for the training and the test set on the same plot.\n",
    "\n",
    "**Bonus.** \n",
    "Besides cross-entropy loss, you are welcome to try multi-class hinge loss described on the following web-page and compare it to cross-entropy loss in terms of accuracy. Try to avoid using for loops in your implementation so that your code is fully vectorized.\n",
    "http://cs231n.github.io/linear-classify/\n"
   ]
  },
  {
   "cell_type": "code",
   "execution_count": 1,
   "metadata": {
    "collapsed": false
   },
   "outputs": [
    {
     "name": "stdout",
     "output_type": "stream",
     "text": [
      "(1437, 2) (360, 2) (1797, 2)\n"
     ]
    },
    {
     "data": {
      "image/png": "[encoded data removed]",
      "text/plain": [
       "<Figure size 432x288 with 8 Axes>"
      ]
     },
     "metadata": {},
     "output_type": "display_data"
    }
   ],
   "source": [
    "%matplotlib inline\n",
    "import matplotlib.pyplot as plt\n",
    "import numpy as np\n",
    "\n",
    "# Import datasets, classifiers and performance metrics\n",
    "from sklearn import datasets, svm, metrics\n",
    "from scipy.misc import derivative\n",
    "\n",
    "# The digits dataset\n",
    "digits = datasets.load_digits()\n",
    "\n",
    "# The data that we are interested in is made of 8x8 images of digits, let's\n",
    "# have a look at the first 4 images, stored in the `images` attribute of the\n",
    "# dataset.  If we were working from image files, we could load them using\n",
    "# matplotlib.pyplot.imread.  Note that each image must have the same size. For these\n",
    "# images, we know which digit they represent: it is given in the 'target' of\n",
    "# the dataset.\n",
    "\n",
    "images_and_labels = list(zip(digits.images, digits.target))\n",
    "for index, (image, label) in enumerate(images_and_labels[:8]):\n",
    "    plt.subplot(2, 4, index + 1)\n",
    "    plt.axis('off')\n",
    "    plt.imshow(image, cmap=plt.cm.gray, interpolation='bilinear')\n",
    "    plt.title('Digit %i' % label)\n",
    "\n",
    "# To apply a classifier on this data, we need to flatten the image, to\n",
    "# turn the data in a (samples, feature) matrix:\n",
    "n_samples = len(digits.images)\n",
    "data = digits.images.reshape((n_samples, -1))\n",
    "dataset = np.array(list(zip(data, digits.target)))\n",
    "np.random.shuffle(dataset)\n",
    "train_index = int(n_samples * 0.8)\n",
    "\n",
    "train = dataset[:train_index]\n",
    "test = dataset[train_index:]\n",
    "\n",
    "\n",
    "print(train.shape, test.shape, dataset.shape)"
   ]
  },
  {
   "cell_type": "code",
   "execution_count": 2,
   "metadata": {},
   "outputs": [],
   "source": [
    "def softmax(x):\n",
    "    if x.ndim == 1:\n",
    "        return np.exp(x) / np.sum(np.exp(x))\n",
    "    \n",
    "    _x = np.zeros(x.shape)\n",
    "    _sum = np.sum(np.exp(x), axis=1)\n",
    "    for i in range(x.shape[0]):\n",
    "        _x[i] = np.exp(x[i]) / _sum[i]\n",
    "    return _x\n",
    "\n",
    "def g(x):\n",
    "    return np.tanh(x)\n",
    "\n",
    "def g_grad(x): \n",
    "    return 1 - np.tanh(x) ** 2\n",
    "  \n",
    "def identifier(y, size):\n",
    "    _cat = np.zeros(size)\n",
    "    _cat[y] = 1\n",
    "    return _cat\n",
    "\n",
    "def to_categorical(y, size=10):\n",
    "    cat = []\n",
    "    for _y in y:\n",
    "        _cat = identifier(_y, size)\n",
    "        cat.append(_cat)\n",
    "        \n",
    "    return np.array(cat)\n",
    "\n",
    "def collect_weights(w1, b1, w2, b2):\n",
    "    theta = []\n",
    "    theta.append([w1, b1])\n",
    "    theta.append([w2, b2])\n",
    "\n",
    "    return np.array(theta)\n",
    "\n",
    "def accuracy(y, predicted):\n",
    "    _y_m = np.argmax(y)\n",
    "    _p_m = np.argmax(predicted)\n",
    "    _v = 1\n",
    "    if _y_m != _p_m:\n",
    "        _v = 0\n",
    "\n",
    "    return _v"
   ]
  },
  {
   "cell_type": "code",
   "execution_count": 3,
   "metadata": {},
   "outputs": [],
   "source": [
    "def backprop(x, y, theta):\n",
    "    W1 = theta[0][0]\n",
    "    b1 = theta[0][1]\n",
    "    \n",
    "    W2 = theta[1][0]\n",
    "    b2 = theta[1][1]\n",
    "    \n",
    "    z1 = W1.dot(x.T) + b1\n",
    "    h1 = g(z1)\n",
    "    z2 = W2.dot(h1) + b2\n",
    "    f = softmax(z2)\n",
    "    L = - y.dot(f)\n",
    "    \n",
    "    dLz2 = f - y  # vector\n",
    "    \n",
    "    dW2 = np.outer(dLz2, h1)  # matrix\n",
    "    db2 = dLz2 # vector\n",
    "    \n",
    "    dLh1 = dLz2.dot(W2) # vector\n",
    "    dLz1 = dLh1 * g_grad(z1) # vector\n",
    "    dLW1 = np.outer(dLz1, x)  # matrix\n",
    "    dLb1 = dLz1  # vector\n",
    "    \n",
    "    return dW2, db2, dLW1, dLb1"
   ]
  },
  {
   "cell_type": "code",
   "execution_count": 4,
   "metadata": {},
   "outputs": [],
   "source": [
    "def network(x, theta, verbose=True):\n",
    "    W1 = theta[0][0]\n",
    "    b1 = theta[0][1]\n",
    "    \n",
    "    W2 = theta[1][0]\n",
    "    b2 = theta[1][1]\n",
    "    \n",
    "    z1 = W1.dot(x) + b1\n",
    "    h = g(z1)\n",
    "    z2 = W2.dot(z1) + b2\n",
    "    f = softmax(z2)\n",
    "    \n",
    "    return f\n",
    "\n",
    "def loss(y, _predicted):\n",
    "    _sum = np.log(_predicted.dot(y))\n",
    "    return -_sum # normalize"
   ]
  },
  {
   "cell_type": "code",
   "execution_count": 5,
   "metadata": {
    "collapsed": true
   },
   "outputs": [
    {
     "name": "stdout",
     "output_type": "stream",
     "text": [
      "Epoch: 0, loss: 2.29189, acc: 0.2283\n",
      "Epoch: 1, loss: 1.66647, acc: 0.5978\n",
      "Epoch: 2, loss: 0.81588, acc: 0.7711\n",
      "Epoch: 3, loss: 0.46306, acc: 0.8678\n",
      "Epoch: 4, loss: 0.29718, acc: 0.9095\n",
      "Epoch: 5, loss: 0.22450, acc: 0.9283\n",
      "Epoch: 6, loss: 0.18672, acc: 0.9422\n",
      "Epoch: 7, loss: 0.16241, acc: 0.9506\n",
      "Epoch: 8, loss: 0.16391, acc: 0.9506\n",
      "Epoch: 9, loss: 0.14163, acc: 0.9610\n",
      "Epoch: 10, loss: 0.14018, acc: 0.9603\n",
      "Epoch: 11, loss: 0.13122, acc: 0.9652\n",
      "Epoch: 12, loss: 0.12898, acc: 0.9645\n",
      "Epoch: 13, loss: 0.14095, acc: 0.9631\n",
      "Epoch: 14, loss: 0.12085, acc: 0.9680\n",
      "Epoch: 15, loss: 0.12014, acc: 0.9701\n",
      "Epoch: 16, loss: 0.12744, acc: 0.9645\n",
      "Epoch: 17, loss: 0.11914, acc: 0.9715\n",
      "Epoch: 18, loss: 0.12166, acc: 0.9736\n",
      "Epoch: 19, loss: 0.11323, acc: 0.9708\n"
     ]
    },
    {
     "data": {
      "text/plain": [
       "<matplotlib.legend.Legend at 0x10f5aa588>"
      ]
     },
     "execution_count": 5,
     "metadata": {},
     "output_type": "execute_result"
    },
    {
     "data": {
      "image/png": "[encoded data removed]",
      "text/plain": [
       "<Figure size 720x432 with 1 Axes>"
      ]
     },
     "metadata": {},
     "output_type": "display_data"
    }
   ],
   "source": [
    "x_train = np.stack(train[:, 0])\n",
    "y_train = np.stack(train[:, 1])\n",
    "y_train = to_categorical(y_train)\n",
    "\n",
    "x_test = np.stack(test[:, 0])\n",
    "y_test = np.stack(test[:, 1])\n",
    "y_test = to_categorical(y_test)\n",
    "\n",
    "W1 = np.random.random((20, x_train.shape[1])) * 1e-3\n",
    "b1 = np.random.random(20) * 1e-3\n",
    "\n",
    "W2 = np.random.random((10, 20)) * 1e-3\n",
    "b2 = np.random.random(10) * 1e-3\n",
    "\n",
    "theta = collect_weights(W1, b1, W2, b2)\n",
    "\n",
    "Epoch = 20\n",
    "learning_rate = 1e-3\n",
    "losses = []\n",
    "acc = []\n",
    "\n",
    "train_set = list(zip(x_train, y_train))\n",
    "\n",
    "for i in range(Epoch):\n",
    "    _loss = []\n",
    "    _acc = []\n",
    "    np.random.shuffle(train_set)\n",
    "    for x, y in train_set:\n",
    "        _predicted = network(x, theta)\n",
    "        \n",
    "        _loss_value = loss(y, _predicted)\n",
    "        _loss.append(_loss_value)\n",
    "        \n",
    "        _acc_value = accuracy(y, _predicted)\n",
    "        _acc.append(_acc_value)\n",
    "        \n",
    "        w2_grad, b2_grad, w1_grad, b1_grad = backprop(x, y, theta)\n",
    "        \n",
    "        W1 = W1 - learning_rate * w1_grad\n",
    "        b1 = b1 - learning_rate * b1_grad\n",
    "        W2 = W2 - learning_rate * w2_grad\n",
    "        b2 = b2 - learning_rate * b2_grad\n",
    "        theta = collect_weights(W1, b1, W2, b2)\n",
    "    \n",
    "    _acc = np.sum(_acc) / len(_acc)\n",
    "    acc.append(_acc)\n",
    "    losses.append(np.average(_loss))  \n",
    "    print('Epoch: {}, loss: {:.5f}, acc: {:.4f}'.format(i, np.average(_loss), _acc))\n",
    "\n",
    "plt.figure(figsize=(10, 6))\n",
    "plt.plot(losses, label='Loss')\n",
    "plt.plot(acc, label='accuracy')\n",
    "plt.legend()"
   ]
  },
  {
   "cell_type": "code",
   "execution_count": 6,
   "metadata": {},
   "outputs": [
    {
     "name": "stdout",
     "output_type": "stream",
     "text": [
      "Test Accuracy: 0.94%\n"
     ]
    }
   ],
   "source": [
    "test_set = zip(x_test, y_test)\n",
    "test_acc = []\n",
    "for x_t, y_t in test_set:\n",
    "    _predicted = network(x_t, theta)\n",
    "\n",
    "    _acc_value = accuracy(y_t, _predicted)\n",
    "    test_acc.append(_acc_value)\n",
    "    \n",
    "test_acc = np.sum(test_acc) / len(test_acc)\n",
    "print('Test Accuracy: {:.2f}%'.format(test_acc))"
   ]
  },
  {
   "cell_type": "code",
   "execution_count": null,
   "metadata": {},
   "outputs": [],
   "source": []
  }
 ],
 "metadata": {
  "kernelspec": {
   "display_name": "Python 3",
   "language": "python",
   "name": "python3"
  },
  "language_info": {
   "codemirror_mode": {
    "name": "ipython",
    "version": 3
   },
   "file_extension": ".py",
   "mimetype": "text/x-python",
   "name": "python",
   "nbconvert_exporter": "python",
   "pygments_lexer": "ipython3",
   "version": "3.6.5"
  }
 },
 "nbformat": 4,
 "nbformat_minor": 2
}
