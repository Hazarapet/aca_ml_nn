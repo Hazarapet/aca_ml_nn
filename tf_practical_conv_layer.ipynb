{
 "cells": [
  {
   "cell_type": "markdown",
   "metadata": {},
   "source": [
    "# Tensorflow, convolutional and pooling layers\n"
   ]
  },
  {
   "cell_type": "code",
   "execution_count": 3,
   "metadata": {
    "collapsed": false
   },
   "outputs": [
    {
     "name": "stdout",
     "output_type": "stream",
     "text": [
      "image shape:\n",
      "(670, 1000, 3)\n",
      "batch shape:\n",
      "(4, 670, 1000, 3)\n"
     ]
    }
   ],
   "source": [
    "import numpy as np\n",
    "from skimage import data\n",
    "from skimage.color import rgb2gray\n",
    "import matplotlib.pyplot as plt\n",
    "%matplotlib inline\n",
    "import matplotlib.image as mpimg\n",
    "\n",
    "img = mpimg.imread('Data/General/image_0.png').astype('float32')\n",
    "\n",
    "print('image shape:')\n",
    "print(img.shape)\n",
    "#img_gray = rgb2gray(img).astype('float32')\n",
    "n_batch = 4\n",
    "\n",
    "# make a batch of 4 equal images\n",
    "batch_img = np.tile(img[np.newaxis,:,:,:],(n_batch,1,1,1))\n",
    "\n",
    "print('batch shape:')\n",
    "print(batch_img.shape)\n",
    "\n",
    "# image size\n",
    "h = img.shape[0]\n",
    "w = img.shape[1]"
   ]
  },
  {
   "cell_type": "code",
   "execution_count": 19,
   "metadata": {
    "collapsed": false
   },
   "outputs": [],
   "source": [
    "import tensorflow as tf\n",
    "\n",
    "X_batch = tf.placeholder(tf.float32, shape=[None, h, w, 3])\n",
    "\n",
    "# Convolutional Layer #1\n",
    "conv = tf.layers.conv2d(inputs=X_batch, filters=32, kernel_size=(7, 7), padding=\"valid\",\n",
    "                        activation=tf.nn.relu, strides=(2, 2))\n",
    " \n",
    "# Pooling Layer #1\n",
    "pool = tf.layers.max_pooling2d(inputs=conv, pool_size=(2, 2), strides=2)\n",
    "\n",
    "output = conv \n",
    "# output = pool"
   ]
  },
  {
   "cell_type": "code",
   "execution_count": 20,
   "metadata": {
    "collapsed": false
   },
   "outputs": [
    {
     "name": "stdout",
     "output_type": "stream",
     "text": [
      "input shape:\n",
      "(4, 670, 1000, 3)\n",
      "output shape:\n",
      "(4, 332, 497, 32)\n"
     ]
    }
   ],
   "source": [
    "init = tf.global_variables_initializer()\n",
    "sess = tf.Session()\n",
    "sess.run(init)\n",
    "\n",
    "output_val = sess.run(output, feed_dict={X_batch: batch_img})\n",
    "\n",
    "print('input shape:')\n",
    "print(batch_img.shape)\n",
    "\n",
    "print('output shape:')\n",
    "print(output_val.shape)"
   ]
  },
  {
   "cell_type": "code",
   "execution_count": null,
   "metadata": {
    "collapsed": true
   },
   "outputs": [],
   "source": []
  }
 ],
 "metadata": {
  "kernelspec": {
   "display_name": "Python 3",
   "language": "python",
   "name": "python3"
  },
  "language_info": {
   "codemirror_mode": {
    "name": "ipython",
    "version": 3
   },
   "file_extension": ".py",
   "mimetype": "text/x-python",
   "name": "python",
   "nbconvert_exporter": "python",
   "pygments_lexer": "ipython3",
   "version": "3.6.5"
  }
 },
 "nbformat": 4,
 "nbformat_minor": 2
}
