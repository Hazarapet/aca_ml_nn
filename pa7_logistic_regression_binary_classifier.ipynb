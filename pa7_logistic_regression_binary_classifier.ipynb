{
 "cells": [
  {
   "cell_type": "markdown",
   "metadata": {},
   "source": [
    "# Logistic regression classifier\n",
    "\n",
    "The task is to train a binary classifier based on logistic regression model.\n",
    "\n",
    "So, we have class 1 and class 2 and the corresponding probabilities are given by $p_1$ and $p_2$:\n",
    "\n",
    "$p_1 = p(x;w) = \\sigma(w^T x)$\n",
    "\n",
    "$p_2=(1 - p)$, and $\\sigma(z)$ is the sigmoid logistic function,\n",
    "\n",
    "$\\sigma(z) = \\frac{1}{1+\\exp(-z)}$,\n",
    "\n",
    "$x$ is the input and $w$ is the vector of parameters. Here we assume that input vector $x$ includes the constant term 1 so that there is no bias term.\n",
    "\n",
    "The log likelihood for each of the training samples is given by:\n",
    "\\begin{equation*}\n",
    "L(x_i;w)=  y_i \\text{log } p(x_i;w) + (1-y_i) \\text{log } (1-p(x_i;w)),\n",
    "\\end{equation*}\n",
    "\n",
    "And log-likelohood for the training set of $N$ samples can be expressed as\n",
    "\n",
    "\\begin{equation*}\n",
    "L(w)= \\frac{1}{N} \\big( \\sum_{i=1}^N y_i(w^T x_i) - \\text{log}(1+e^{w^T x_i})  \\big).\n",
    "\\end{equation*}\n",
    "\n",
    "Given that\n",
    "\\begin{equation*}\n",
    "\\frac{\\partial L}{\\partial w} = X^T (y - p),\n",
    "\\end{equation*}\n",
    "\n",
    "where $p$ is a vector of values $p$ for each of the training samples.\n",
    "Fit the parameters of the model that by maximizing the log-likelihood of the loss function.\n",
    "\n",
    "Use digits images for classification and choose only digits \"4\" and \"9\" from the data set so that it is a binary classification. Do a train and test split. Plot the likelihood and the accuracy of the classifier on the train and test data.\n",
    "\n",
    "**Note**.\n",
    "\n",
    "Mind the numerical problems you will have when computing log of zero probabilities. Add a small positive constant, e.g. $10^{-8}$ in order to avoid that."
   ]
  },
  {
   "cell_type": "code",
   "execution_count": 172,
   "metadata": {
    "collapsed": true
   },
   "outputs": [
    {
     "name": "stdout",
     "output_type": "stream",
     "text": [
      "(288, 2) (73, 2) (361, 2)\n"
     ]
    },
    {
     "data": {
      "image/png": "[encoded data removed]",
      "text/plain": [
       "<Figure size 432x288 with 8 Axes>"
      ]
     },
     "metadata": {},
     "output_type": "display_data"
    }
   ],
   "source": [
    "%matplotlib inline\n",
    "import matplotlib.pyplot as plt\n",
    "import numpy as np\n",
    "\n",
    "# Import datasets, classifiers and performance metrics\n",
    "from sklearn import datasets, svm, metrics\n",
    "from scipy.misc import derivative\n",
    "\n",
    "# The digits dataset\n",
    "digits = datasets.load_digits()\n",
    "\n",
    "# The data that we are interested in is made of 8x8 images of digits, let's\n",
    "# have a look at the first 4 images, stored in the `images` attribute of the\n",
    "# dataset.  If we were working from image files, we could load them using\n",
    "# matplotlib.pyplot.imread.  Note that each image must have the same size. For these\n",
    "# images, we know which digit they represent: it is given in the 'target' of\n",
    "# the dataset.\n",
    "\n",
    "images_and_labels = list(zip(digits.images, digits.target))\n",
    "for index, (image, label) in enumerate(images_and_labels[:8]):\n",
    "    plt.subplot(2, 4, index + 1)\n",
    "    plt.axis('off')\n",
    "    plt.imshow(image, cmap=plt.cm.gray, interpolation='bilinear')\n",
    "    plt.title('Digit %i' % label)\n",
    "\n",
    "# To apply a classifier on this data, we need to flatten the image, to\n",
    "# turn the data in a (samples, feature) matrix:\n",
    "n_samples = len(digits.images)\n",
    "data = digits.images.reshape((n_samples, -1))\n",
    "dataset = np.array(list(zip(data, digits.target)))\n",
    "_class_1 = dataset[:, 1] == 7\n",
    "_class_2 = dataset[:, 1] == 1\n",
    "\n",
    "_class_1 = dataset[_class_1]\n",
    "_class_1[:, 1] = 1  # digit 4\n",
    "_class_2 = dataset[_class_2]\n",
    "_class_2[:, 1] = 0\n",
    "\n",
    "dataset = np.concatenate((_class_1, _class_2))\n",
    "np.random.shuffle(dataset)\n",
    "train_index = int(dataset.shape[0] * 0.8)\n",
    "\n",
    "train = dataset[:train_index]\n",
    "test = dataset[train_index:]\n",
    "\n",
    "print(train.shape, test.shape, dataset.shape)"
   ]
  },
  {
   "cell_type": "code",
   "execution_count": 173,
   "metadata": {},
   "outputs": [],
   "source": [
    "def g(x):\n",
    "    return 1 / (1 + np.exp(-x))\n",
    "\n",
    "def p(x, w):\n",
    "    return g(w.dot(x.T))\n",
    "    \n",
    "def L(x, y, w):\n",
    "    return -1 / x.shape[0] * np.sum(y * w.dot(x.T) - np.log(1 + np.exp(W.dot(x.T))))\n",
    "\n",
    "def grad_L(x, y, w):\n",
    "    return -x.T.dot(y - p(x, w))\n",
    "\n",
    "def transform_x(x, degree=2):\n",
    "    _x = []\n",
    "    for row in x:\n",
    "        _x.append(np.concatenate((row, row**2)))\n",
    "    return np.array(_x)\n",
    "\n",
    "def accuracy(y, p):\n",
    "    _res = (y == p) * 1\n",
    "    return np.sum(_res) / y.shape[0]"
   ]
  },
  {
   "cell_type": "code",
   "execution_count": 180,
   "metadata": {},
   "outputs": [
    {
     "name": "stdout",
     "output_type": "stream",
     "text": [
      "Epoch: 0, Loss: 0.69552, train_acc: 0.497, test_acc: 0.493\n",
      "Epoch: 1, Loss: 0.69362, train_acc: 0.497, test_acc: 0.493\n",
      "Epoch: 2, Loss: 0.69173, train_acc: 0.497, test_acc: 0.493\n",
      "Epoch: 3, Loss: 0.68986, train_acc: 0.497, test_acc: 0.493\n",
      "Epoch: 4, Loss: 0.68800, train_acc: 0.497, test_acc: 0.493\n",
      "Epoch: 5, Loss: 0.68615, train_acc: 0.497, test_acc: 0.493\n",
      "Epoch: 6, Loss: 0.68431, train_acc: 0.497, test_acc: 0.493\n",
      "Epoch: 7, Loss: 0.68249, train_acc: 0.497, test_acc: 0.493\n",
      "Epoch: 8, Loss: 0.68068, train_acc: 0.497, test_acc: 0.493\n",
      "Epoch: 9, Loss: 0.67888, train_acc: 0.497, test_acc: 0.493\n",
      "Epoch: 10, Loss: 0.67710, train_acc: 0.497, test_acc: 0.493\n",
      "Epoch: 11, Loss: 0.67532, train_acc: 0.497, test_acc: 0.493\n",
      "Epoch: 12, Loss: 0.67356, train_acc: 0.497, test_acc: 0.493\n",
      "Epoch: 13, Loss: 0.67181, train_acc: 0.503, test_acc: 0.507\n",
      "Epoch: 14, Loss: 0.67007, train_acc: 0.517, test_acc: 0.507\n",
      "Epoch: 15, Loss: 0.66834, train_acc: 0.559, test_acc: 0.575\n",
      "Epoch: 16, Loss: 0.66662, train_acc: 0.583, test_acc: 0.616\n",
      "Epoch: 17, Loss: 0.66491, train_acc: 0.622, test_acc: 0.630\n",
      "Epoch: 18, Loss: 0.66321, train_acc: 0.646, test_acc: 0.630\n",
      "Epoch: 19, Loss: 0.66152, train_acc: 0.677, test_acc: 0.685\n",
      "Epoch: 20, Loss: 0.65983, train_acc: 0.719, test_acc: 0.699\n",
      "Epoch: 21, Loss: 0.65816, train_acc: 0.743, test_acc: 0.740\n",
      "Epoch: 22, Loss: 0.65650, train_acc: 0.767, test_acc: 0.808\n",
      "Epoch: 23, Loss: 0.65485, train_acc: 0.806, test_acc: 0.836\n",
      "Epoch: 24, Loss: 0.65321, train_acc: 0.819, test_acc: 0.836\n",
      "Epoch: 25, Loss: 0.65157, train_acc: 0.837, test_acc: 0.849\n",
      "Epoch: 26, Loss: 0.64995, train_acc: 0.854, test_acc: 0.863\n",
      "Epoch: 27, Loss: 0.64833, train_acc: 0.865, test_acc: 0.877\n",
      "Epoch: 28, Loss: 0.64672, train_acc: 0.882, test_acc: 0.877\n",
      "Epoch: 29, Loss: 0.64512, train_acc: 0.889, test_acc: 0.890\n"
     ]
    },
    {
     "data": {
      "text/plain": [
       "[<matplotlib.lines.Line2D at 0x1125aae10>]"
      ]
     },
     "execution_count": 180,
     "metadata": {},
     "output_type": "execute_result"
    },
    {
     "data": {
      "image/png": "[encoded data removed]",
      "text/plain": [
       "<Figure size 720x576 with 1 Axes>"
      ]
     },
     "metadata": {},
     "output_type": "display_data"
    }
   ],
   "source": [
    "x_train = np.stack(train[:, 0])\n",
    "y_train = np.stack(train[:, 1])\n",
    "\n",
    "x_test = np.stack(test[:, 0])\n",
    "y_test = np.stack(test[:, 1])\n",
    "\n",
    "# x_train = transform_x(x_train)\n",
    "# x_test = transform_x(x_test)\n",
    "\n",
    "W = np.random.random(x_train.shape[1]) * 1e-3\n",
    "\n",
    "Epoch = 30\n",
    "lr = 1e-7\n",
    "\n",
    "losses = []\n",
    "accuracies = []\n",
    "\n",
    "for i in range(Epoch):\n",
    "    _loss = L(x_train, y_train, W)\n",
    "    \n",
    "    _tr_p = p(x_train, W)\n",
    "    _tr_p = (_tr_p > 0.5) * 1\n",
    "    _tr_acc = accuracy(y_train, _tr_p)\n",
    "    \n",
    "    _ts_p = p(x_test, W)\n",
    "    _ts_p = (_ts_p > 0.5) * 1\n",
    "    _ts_acc = accuracy(y_test, _ts_p)\n",
    "    \n",
    "    print('Epoch: {}, Loss: {:.5f}, train_acc: {:.3f}, test_acc: {:.3f}'.format(i, _loss, _tr_acc, _ts_acc))\n",
    "    losses.append(_loss)\n",
    "    accuracies.append(_acc)\n",
    "    \n",
    "    W = W - lr * grad_L(x_train, y_train, W)\n",
    "    \n",
    "plt.figure(figsize=(10, 8))\n",
    "plt.plot(losses, label='Loss')\n",
    "plt.plot(accuracies, label='Accuracy')"
   ]
  },
  {
   "cell_type": "code",
   "execution_count": null,
   "metadata": {},
   "outputs": [],
   "source": []
  }
 ],
 "metadata": {
  "kernelspec": {
   "display_name": "Python 3",
   "language": "python",
   "name": "python3"
  },
  "language_info": {
   "codemirror_mode": {
    "name": "ipython",
    "version": 3
   },
   "file_extension": ".py",
   "mimetype": "text/x-python",
   "name": "python",
   "nbconvert_exporter": "python",
   "pygments_lexer": "ipython3",
   "version": "3.6.5"
  }
 },
 "nbformat": 4,
 "nbformat_minor": 2
}
